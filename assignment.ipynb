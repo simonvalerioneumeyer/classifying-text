{
 "cells": [
  {
   "cell_type": "markdown",
   "metadata": {},
   "source": [
    "# Assignment: Classifying Text"
   ]
  },
  {
   "cell_type": "code",
   "execution_count": 109,
   "metadata": {},
   "outputs": [],
   "source": [
    "import re\n",
    "import numpy as np\n",
    "from nltk.stem.snowball import SnowballStemmer\n",
    "import seaborn as sns\n",
    "import matplotlib.pyplot as plt\n",
    "from stop_words import get_stop_words\n",
    "import pandas as pd\n",
    "#import spacy\n",
    "from sklearn.feature_extraction.text import CountVectorizer, TfidfVectorizer\n",
    "#from sklearn.model_selection import cross_val_score\n",
    "#from sklearn.naive_bayes import MultinomialNB\n",
    "from sklearn.linear_model import LogisticRegression\n",
    "from sklearn.model_selection import cross_val_score"
   ]
  },
  {
   "cell_type": "markdown",
   "metadata": {
    "ein.tags": "worksheet-0",
    "slideshow": {
     "slide_type": "-"
    }
   },
   "source": [
    "## Crosstraining\n",
    "\n",
    "**Test how well your model, when trained on one dataset, performs on the other.**\n",
    "\n",
    "**The idea is to consider the situation where you have labels for one context, but not for the other. So you must train your model your \"source context\" and hope it generalizes well to your \"target context\", where you have no labels!**\n",
    "\n",
    "**Use the two datasets available in `sentiment/yelp.csv` (online restaurant reviews from Yelp) and `sentiment/movies.csv` (online movie reviews from IMDB). Both have a column called `text` with the text of the review and a column called `positive` which should be your outcome. No other variables are needed.**\n",
    "\n",
    "**To do this, make sure that you:**\n",
    "\n",
    "1. You perform the \"fitting\" of both the vectorizer and the model on one of the sets\n",
    "2. Use the \"transform\" of the vectorizer to transform the second dataset into the same feature space (X) that your model was trained on.\n",
    "3. Use the \"predict\" of your model to see how well it did on the second dataset.\n",
    "\n",
    "**How well does your model generalize from one to the other? What does this say about \"sentiment\"?****"
   ]
  },
  {
   "cell_type": "code",
   "execution_count": 118,
   "metadata": {},
   "outputs": [],
   "source": [
    "class CrossTraining():\n",
    "\n",
    "    def __init__(self):\n",
    "        self.stemmer = SnowballStemmer(\"english\")\n",
    "        self.stop_words = get_stop_words('en')\n",
    "\n",
    "    def load_data(self):\n",
    "        self.yelps = pd.read_csv('sentiment/yelps.csv')\n",
    "        self.movies = pd.read_csv('sentiment/movies.csv')\n",
    "\n",
    "    def preprocess(self, doc):\n",
    "        # remove stopwords:\n",
    "        doc = [x for x in doc.split() if x not in self.stop_words]\n",
    "        doc = ' '.join(doc)\n",
    "        # stemming & lower:\n",
    "        doc = re.sub(re.compile(r'[^\\w|\\s]'), '', doc)\n",
    "        doc = [self.stemmer.stem(word).lower() for word in doc.split()]\n",
    "        doc = ' '.join(doc)\n",
    "        return doc\n",
    "\n",
    "    def vectorize(self, min_df, max_df, use_idf=False):\n",
    "        vectorizer = TfidfVectorizer(min_df=min_df,\n",
    "                                 max_df=max_df,\n",
    "                                 preprocessor=self.preprocess,\n",
    "                                 #stop_words='english',\n",
    "                                 use_idf=use_idf,\n",
    "                                 norm='l2')\n",
    "        return vectorizer\n",
    "\n",
    "    def transform_data(self, vectorizer, yelps_is_train=True, use_X_test=False):\n",
    "        # define X, y, X_test, y_test:\n",
    "        if yelps_is_train:\n",
    "            df_train = self.yelps\n",
    "            df_test = self.movies\n",
    "        else:\n",
    "            df_train = self.movies\n",
    "            df_test = self.yelps\n",
    "        # define input for vectorizer:\n",
    "        if use_X_test:\n",
    "            #df_all = pd.concat([df_train.text, df_test.text])\n",
    "            X_fit = vectorizer.fit(df_test.text)\n",
    "        else:\n",
    "            X_fit = vectorizer.fit(df_train.text)\n",
    "        # transform X:\n",
    "        X = X_fit.transform(df_train.text)\n",
    "        #X = vectorizer.fit_transform(df_train.text)\n",
    "        \n",
    "        X = np.asarray(X.todense())\n",
    "        y = df_train.positive\n",
    "        y = [int(x == 'True') for x in y]\n",
    "        # define X_test and y_test:\n",
    "        y_test = df_test.positive\n",
    "        y_test = [int(x == 'True') for x in y_test]\n",
    "        X_test = X_fit.transform(df_test.text)\n",
    "        return X, y, X_test, y_test\n",
    "\n",
    "    def get_scores(self, X, y, X_test, y_test):\n",
    "        # get cv_scores:\n",
    "        lreg = LogisticRegression()\n",
    "        cv_score = np.mean(cross_val_score(lreg, X, y, cv=3))\n",
    "        # get out-of-sample scores:\n",
    "        lreg.fit(X, y)\n",
    "        out_of_sample_score = lreg.score(X_test, y_test)\n",
    "        print(f'CV Score: {round(cv_score,3)}, Out-of-Sample Score: {round(out_of_sample_score,3)}')\n",
    "        return cv_score, out_of_sample_score\n",
    "    \n",
    "    def main(self, use_X_test=False, yelps_is_train=True):\n",
    "        \n",
    "        self.load_data()\n",
    "        \n",
    "        vectorizer = self.vectorize(min_df=0.03, max_df=0.8, use_idf=False)\n",
    "        \n",
    "        X, y, X_test, y_test = self.transform_data(vectorizer, use_X_test=use_X_test, yelps_is_train=yelps_is_train)\n",
    "        \n",
    "        cv_score, out_of_sample_score = self.get_scores(X, y, X_test, y_test)\n",
    "        \n",
    "        return X, y, X_test, y_test, cv_score, out_of_sample_score"
   ]
  },
  {
   "cell_type": "markdown",
   "metadata": {},
   "source": [
    "### train on yelps, test on movies:"
   ]
  },
  {
   "cell_type": "code",
   "execution_count": 119,
   "metadata": {},
   "outputs": [
    {
     "name": "stdout",
     "output_type": "stream",
     "text": [
      "CV Score: 0.923, Out-of-Sample Score: 0.754\n"
     ]
    }
   ],
   "source": [
    "#%%time\n",
    "crosst = CrossTraining()\n",
    "_, _, _, _, cv_score_1, out_of_sample_score_1 = crosst.main()"
   ]
  },
  {
   "cell_type": "markdown",
   "metadata": {},
   "source": [
    "The idea is to compare a cross-validated out of sample score (only using the train set) with the score one gets by using the other dataset (here movies in stead of yelps). If the two datasets come from the same distribution, this score ought to be very similar. But quite evidently this is not the case here: the cross-validation score is around 17% higher than the out of sample score, therefore we can conclude that this alternative dataset (movies) is an unreliable metric to evaluate our model."
   ]
  },
  {
   "cell_type": "markdown",
   "metadata": {},
   "source": [
    "### train on movies, test on yelps:"
   ]
  },
  {
   "cell_type": "code",
   "execution_count": 120,
   "metadata": {},
   "outputs": [
    {
     "name": "stdout",
     "output_type": "stream",
     "text": [
      "CV Score: 0.852, Out-of-Sample Score: 0.843\n"
     ]
    }
   ],
   "source": [
    "#%%time\n",
    "crosst = CrossTraining()\n",
    "_, _, _, _, cv_score_2, out_of_sample_score_2 = crosst.main(yelps_is_train=False)"
   ]
  },
  {
   "cell_type": "markdown",
   "metadata": {},
   "source": [
    "When using movies as train data and yelps as test data my results change and the cv score and out of sample score are very similar. This makes sense if we assume that the movies dataset is a more diverse dataset, i.e. it contains most of the information/words/sentiment that the yelps contains, but NOT VICE VERSA (which would explain the lack of generalizability when training on yelps)!"
   ]
  },
  {
   "cell_type": "markdown",
   "metadata": {},
   "source": [
    "## Crosstraining 2\n",
    "\n",
    "**Try to improve your transfer score using the unlabelled target data, P(X). What could you learn from the target context (without using the labels, only from the X) that might help you when training your model on your source context? How can you construct a feature space in your source context that generalizes better?**"
   ]
  },
  {
   "cell_type": "markdown",
   "metadata": {},
   "source": [
    "What we can do differently here is to use X_test instead of X_train to fit the vectorizer. This might help if we think that a lot of information gets lost if, when creating the feature space, we don't take into account typical words from the test set that don't appear frequently or don't appear at all in the train set.\n",
    "\n",
    "With this change we pick better features for our prediction, but the values for these features will still be biased since we trained our classifier with data that comes from a different distribution.\n",
    "\n",
    "BTW: I tried also fitting both datasets together into the vectorizer but the results weren't very different/better when evaluating on the test set. It goes without saying that in order for our model to be generalizable to other unknown data one might have to collect as much data as possible and therefore fit the concatenation of both datasets into the vectorizer."
   ]
  },
  {
   "cell_type": "markdown",
   "metadata": {},
   "source": [
    "### train on yelps, test on movies:"
   ]
  },
  {
   "cell_type": "code",
   "execution_count": 121,
   "metadata": {
    "code_folding": []
   },
   "outputs": [
    {
     "name": "stderr",
     "output_type": "stream",
     "text": [
      "/Users/simonneumeyer/opt/anaconda3/lib/python3.7/site-packages/sklearn/linear_model/_logistic.py:764: ConvergenceWarning: lbfgs failed to converge (status=1):\n",
      "STOP: TOTAL NO. of ITERATIONS REACHED LIMIT.\n",
      "\n",
      "Increase the number of iterations (max_iter) or scale the data as shown in:\n",
      "    https://scikit-learn.org/stable/modules/preprocessing.html\n",
      "Please also refer to the documentation for alternative solver options:\n",
      "    https://scikit-learn.org/stable/modules/linear_model.html#logistic-regression\n",
      "  extra_warning_msg=_LOGISTIC_SOLVER_CONVERGENCE_MSG)\n"
     ]
    },
    {
     "name": "stdout",
     "output_type": "stream",
     "text": [
      "CV Score: 0.917, Out-of-Sample Score: 0.782\n"
     ]
    },
    {
     "name": "stderr",
     "output_type": "stream",
     "text": [
      "/Users/simonneumeyer/opt/anaconda3/lib/python3.7/site-packages/sklearn/linear_model/_logistic.py:764: ConvergenceWarning: lbfgs failed to converge (status=1):\n",
      "STOP: TOTAL NO. of ITERATIONS REACHED LIMIT.\n",
      "\n",
      "Increase the number of iterations (max_iter) or scale the data as shown in:\n",
      "    https://scikit-learn.org/stable/modules/preprocessing.html\n",
      "Please also refer to the documentation for alternative solver options:\n",
      "    https://scikit-learn.org/stable/modules/linear_model.html#logistic-regression\n",
      "  extra_warning_msg=_LOGISTIC_SOLVER_CONVERGENCE_MSG)\n"
     ]
    }
   ],
   "source": [
    "#%%time\n",
    "crosst = CrossTraining()\n",
    "_, _, _, _, cv_score_2_1, out_of_sample_score_2_1 = crosst.main(use_X_test=True)"
   ]
  },
  {
   "cell_type": "markdown",
   "metadata": {},
   "source": [
    "### train on movies, test on yelps:"
   ]
  },
  {
   "cell_type": "code",
   "execution_count": 122,
   "metadata": {},
   "outputs": [
    {
     "name": "stdout",
     "output_type": "stream",
     "text": [
      "CV Score: 0.816, Out-of-Sample Score: 0.821\n"
     ]
    }
   ],
   "source": [
    "#%%time\n",
    "crosst = CrossTraining()\n",
    "_, _, _, _, cv_score_2_2, out_of_sample_score_2_2 = crosst.main(use_X_test=True, yelps_is_train=False)"
   ]
  },
  {
   "cell_type": "markdown",
   "metadata": {},
   "source": [
    "## plotting everything:"
   ]
  },
  {
   "cell_type": "code",
   "execution_count": 128,
   "metadata": {
    "scrolled": false
   },
   "outputs": [
    {
     "data": {
      "image/png": "[encoded data removed]",
      "text/plain": [
       "<Figure size 1080x360 with 2 Axes>"
      ]
     },
     "metadata": {
      "needs_background": "light"
     },
     "output_type": "display_data"
    }
   ],
   "source": [
    "# settings:\n",
    "labels = ['feature space: X_train', 'feature space: X_test']\n",
    "f, (ax1, ax2) = plt.subplots(1, 2, figsize=(15,5))\n",
    "ax1.set_title('Training on yelps, testing on movies')\n",
    "ax2.set_title('Training on movies, testing on yelps')\n",
    "ax1.set_ylim([0, 1])\n",
    "ax2.set_ylim([0, 1])\n",
    "# first subplot:\n",
    "g1 = sns.barplot(x=labels, y=[in_sample_score_1, in_sample_score_2_1], alpha=0.5, ax=ax1)\n",
    "for i, row in enumerate([in_sample_score_1, in_sample_score_2_1]):\n",
    "    g1.text(x=i, y=row, s='- cv_score', color='black', ha=\"center\", size='small', rotation=15)\n",
    "\n",
    "g1 = sns.barplot(x=labels, y=[out_of_sample_score_1, out_of_sample_score_2_1], ax=ax1)\n",
    "for i, row in enumerate([out_of_sample_score_1, out_of_sample_score_2_1]):\n",
    "    g1.text(x=i, y=row, s='- out of sample', color='black', ha=\"center\", size='small', rotation=15)\n",
    "g1.set_ylabel('score')\n",
    "\n",
    "# second subplot:\n",
    "g2 = sns.barplot(x=labels, y=[in_sample_score_2, in_sample_score_2_2], alpha=0.5, ax=ax2)\n",
    "for i, row in enumerate([in_sample_score_2, in_sample_score_2_2]):\n",
    "    g2.text(x=i, y=row, s='- cv_score', color='black', ha=\"right\", size='small', rotation=15)\n",
    "\n",
    "g2 = sns.barplot(x=labels, y=[out_of_sample_score_2, out_of_sample_score_2_2], ax=ax2)\n",
    "for i, row in enumerate([out_of_sample_score_2, out_of_sample_score_2_2]):\n",
    "    g2.text(x=i, y=row, s='- out of sample', color='black', ha=\"left\", size='small', rotation=15)\n",
    "g2.set_ylabel('score')\n",
    "\n",
    "plt.show()"
   ]
  },
  {
   "cell_type": "markdown",
   "metadata": {},
   "source": [
    "On the left subplot you see that fitting X_test to the vectorizer helps a bit when training on the yelps and testing on the movies dataset: The gap between cross-validation and out-of-sample performance shrinks a bit, but not substantially.\n",
    "\n",
    "When training on the movies and testing on the yelps dataset, however, (right subplot) things are a bit different: The cross-validation and out-of-sample performance more or less coincide in both cases and using the test data as our feature space does not help but worsen the performance for both out-of-sample approaches.\n",
    "This makes sense if the following holds: The movies dataset is a more diverse dataset, i.e. it contains most of the information/words/sentiment that the yelps contains, but NOT VICE VERSA! Therefore it is better to train on the movies dataset and also use the feature space of the movies dataset since it contains better (more generalizable) info on sentiment.\n",
    "PS: Results are robust to various specifications of min_df and normalizing/not normalizing within the vectorization."
   ]
  }
 ],
 "metadata": {
  "kernelspec": {
   "display_name": "Python 3",
   "language": "python",
   "name": "python3"
  },
  "language_info": {
   "codemirror_mode": {
    "name": "ipython",
    "version": 3
   },
   "file_extension": ".py",
   "mimetype": "text/x-python",
   "name": "python",
   "nbconvert_exporter": "python",
   "pygments_lexer": "ipython3",
   "version": "3.7.6"
  },
  "name": "assignment.ipynb",
  "toc": {
   "base_numbering": 1,
   "nav_menu": {},
   "number_sections": true,
   "sideBar": true,
   "skip_h1_title": false,
   "title_cell": "Table of Contents",
   "title_sidebar": "Contents",
   "toc_cell": false,
   "toc_position": {},
   "toc_section_display": true,
   "toc_window_display": false
  }
 },
 "nbformat": 4,
 "nbformat_minor": 2
}
